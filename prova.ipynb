{
 "cells": [
  {
   "cell_type": "code",
   "execution_count": 1,
   "metadata": {},
   "outputs": [
    {
     "name": "stdout",
     "output_type": "stream",
     "text": [
      "x**3*sin(x)**4/8 + x**3*sin(x)**2*cos(x)**2/4 + x**3*cos(x)**4/8 - 5*x**2*sin(x)**3*cos(x)/8 - 3*x**2*sin(x)*cos(x)**3/8 + 17*x*sin(x)**4/64 - 3*x*sin(x)**2*cos(x)**2/32 - 15*x*cos(x)**4/64 + 17*sin(x)**3*cos(x)/64 + 15*sin(x)*cos(x)**3/64\n"
     ]
    }
   ],
   "source": [
    "from sympy import *\n",
    "x=Symbol('x')\n",
    "print (integrate(sin(x)**4*x**2, x))"
   ]
  },
  {
   "cell_type": "code",
   "execution_count": null,
   "metadata": {},
   "outputs": [],
   "source": [
    "1+2"
   ]
  }
 ],
 "metadata": {
  "kernelspec": {
   "display_name": "Python 3 (ipykernel)",
   "language": "python",
   "name": "python3"
  },
  "language_info": {
   "codemirror_mode": {
    "name": "ipython",
    "version": 3
   },
   "file_extension": ".py",
   "mimetype": "text/x-python",
   "name": "python",
   "nbconvert_exporter": "python",
   "pygments_lexer": "ipython3",
   "version": "3.12.1"
  }
 },
 "nbformat": 4,
 "nbformat_minor": 2
}
