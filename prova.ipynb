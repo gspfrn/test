{
 "cells": [
  {
   "cell_type": "code",
   "execution_count": 1,
   "metadata": {},
   "outputs": [
    {
     "name": "stdout",
     "output_type": "stream",
     "text": [
      "-x*cos(x) + sin(x)\n"
     ]
    }
   ],
   "source": [
    "from sympy import *\n",
    "x=Symbol('x')\n",
    "print (integrate(sin(x)**1*x**1, x))"
   ]
  },
  {
   "cell_type": "code",
   "execution_count": 2,
   "metadata": {},
   "outputs": [
    {
     "name": "stdout",
     "output_type": "stream",
     "text": [
      "36\n"
     ]
    }
   ],
   "source": [
    "L1=['2', '10', '5', 'A', '9', '9']\n",
    "tot1=0\n",
    "nA1=0\n",
    "for l1 in L1:\n",
    "    if l1 in ['K', 'Q', 'J','A']:\n",
    "        tot1=tot1+10\n",
    "    else:\n",
    "        tot1=tot1+int(l1)\n",
    "    if l1=='A':\n",
    "        nA1=nA1+1\n",
    "while tot1>21 and nA1>0:\n",
    "    tot1=tot1-9\n",
    "    nA1=nA1-1\n",
    "print(tot1)"
   ]
  },
  {
   "cell_type": "code",
   "execution_count": null,
   "metadata": {},
   "outputs": [],
   "source": [
    "    hand_1=['2', '8', '3']\n",
    "    hand_2=['A', '4', '4', '7']\n",
    "    \n",
    "    tot1=0\n",
    "    nA1=0\n",
    "    for l1 in hand_1:\n",
    "        if l1 in ['K', 'Q', 'J','A']:\n",
    "            tot1=tot1+10\n",
    "        else:\n",
    "            tot1=tot1+int(l1)\n",
    "        if l1=='A':\n",
    "            nA1=nA1+1\n",
    "    while tot1>21 and nA1>0:\n",
    "        tot1=tot1-9\n",
    "        nA1=nA1-1\n",
    "\n",
    "    tot2=0\n",
    "    nA2=0\n",
    "    for l2 in hand_2:\n",
    "        if l2 in ['K', 'Q', 'J','A']:\n",
    "            tot2=tot2+10\n",
    "        else:\n",
    "            tot2=tot2+int(l2)\n",
    "    if l2=='A':\n",
    "        nA2=nA2+1\n",
    "print(tot2,nA2)\n",
    "    while tot2>21 and nA2>0:\n",
    "        tot2=tot2-9\n",
    "        nA2=nA2-1\n",
    "\n",
    "print (tot1,tot2)     \n",
    "\"\"\"\n",
    "    if tot1<=21 and (tot1>tot2 or tot2>21):\n",
    "        return True\n",
    "    else:\n",
    "        return False\n",
    "\"\"\""
   ]
  }
 ],
 "metadata": {
  "kernelspec": {
   "display_name": "Python 3",
   "language": "python",
   "name": "python3"
  },
  "language_info": {
   "codemirror_mode": {
    "name": "ipython",
    "version": 3
   },
   "file_extension": ".py",
   "mimetype": "text/x-python",
   "name": "python",
   "nbconvert_exporter": "python",
   "pygments_lexer": "ipython3",
   "version": "3.6.6+"
  }
 },
 "nbformat": 4,
 "nbformat_minor": 2
}
