{
 "cells": [
  {
   "cell_type": "code",
   "execution_count": 1,
   "metadata": {},
   "outputs": [
    {
     "name": "stdout",
     "output_type": "stream",
     "text": [
      "x**3*sin(x)**2/6 + x**3*cos(x)**2/6 - x**2*sin(x)*cos(x)/2 + x*sin(x)**2/4 - x*cos(x)**2/4 + sin(x)*cos(x)/4\n"
     ]
    }
   ],
   "source": [
    "from sympy import *\n",
    "x=Symbol('x')\n",
    "print (integrate(sin(x)**2*x**2, x))"
   ]
  },
  {
   "cell_type": "code",
   "execution_count": null,
   "metadata": {},
   "outputs": [],
   "source": [
    "1+2"
   ]
  }
 ],
 "metadata": {
  "kernelspec": {
   "display_name": "Python 3 (ipykernel)",
   "language": "python",
   "name": "python3"
  }
 },
 "nbformat": 4,
 "nbformat_minor": 2
}
